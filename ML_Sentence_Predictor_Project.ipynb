{
  "nbformat": 4,
  "nbformat_minor": 0,
  "metadata": {
    "colab": {
      "provenance": []
    },
    "kernelspec": {
      "name": "python3",
      "display_name": "Python 3"
    },
    "language_info": {
      "name": "python"
    }
  },
  "cells": [
    {
      "cell_type": "code",
      "execution_count": 1,
      "metadata": {
        "id": "TmUbmw6lUUPN"
      },
      "outputs": [],
      "source": [
        "import numpy as np\n",
        "import tensorflow as tf\n",
        "from tensorflow.keras.preprocessing.text import Tokenizer\n",
        "from tensorflow.keras.preprocessing.sequence import pad_sequences\n",
        "from tensorflow.keras.models import Sequential\n",
        "from tensorflow.keras.layers import Embedding, LSTM, Dense"
      ]
    },
    {
      "cell_type": "code",
      "source": [
        "with open('/content/data.txt', 'r', encoding='utf-8') as file:\n",
        "    text = file.read()"
      ],
      "metadata": {
        "id": "x5C8M12lU8g0"
      },
      "execution_count": 2,
      "outputs": []
    },
    {
      "cell_type": "code",
      "source": [
        "tokenizer = Tokenizer()\n",
        "tokenizer.fit_on_texts([text])\n",
        "total_words = len(tokenizer.word_index) + 1"
      ],
      "metadata": {
        "id": "6-7zyG7mU-XJ"
      },
      "execution_count": 3,
      "outputs": []
    },
    {
      "cell_type": "code",
      "source": [
        "input_sequences = []\n",
        "for line in text.split('\\n'):\n",
        "    token_list = tokenizer.texts_to_sequences([line])[0]\n",
        "    for i in range(1, len(token_list)):\n",
        "        n_gram_sequence = token_list[:i+1]\n",
        "        input_sequences.append(n_gram_sequence)"
      ],
      "metadata": {
        "id": "eiKmPyeHVAaf"
      },
      "execution_count": 4,
      "outputs": []
    },
    {
      "cell_type": "code",
      "source": [
        "max_sequence_len = max([len(seq) for seq in input_sequences])\n",
        "input_sequences = np.array(pad_sequences(input_sequences, maxlen=max_sequence_len, padding='pre'))"
      ],
      "metadata": {
        "id": "FL5TlBFxVEBR"
      },
      "execution_count": 5,
      "outputs": []
    },
    {
      "cell_type": "code",
      "source": [
        "X = input_sequences[:, :-1]\n",
        "y = input_sequences[:, -1]"
      ],
      "metadata": {
        "id": "zAcbVIjhVJGC"
      },
      "execution_count": 6,
      "outputs": []
    },
    {
      "cell_type": "code",
      "source": [
        "y = np.array(tf.keras.utils.to_categorical(y, num_classes=total_words))"
      ],
      "metadata": {
        "id": "ZSO8gbhpVLMX"
      },
      "execution_count": 7,
      "outputs": []
    },
    {
      "cell_type": "code",
      "source": [
        "model = Sequential()\n",
        "model.add(Embedding(total_words, 100, input_length=max_sequence_len-1))\n",
        "model.add(LSTM(150))\n",
        "model.add(Dense(total_words, activation='softmax'))"
      ],
      "metadata": {
        "id": "w8tZ1N2QVNHT"
      },
      "execution_count": 8,
      "outputs": []
    },
    {
      "cell_type": "code",
      "source": [
        "print(model.summary())"
      ],
      "metadata": {
        "colab": {
          "base_uri": "https://localhost:8080/"
        },
        "id": "oTn0cz3JVQMo",
        "outputId": "147c7021-1fa5-4e55-e958-ddae67ecac93"
      },
      "execution_count": 9,
      "outputs": [
        {
          "output_type": "stream",
          "name": "stdout",
          "text": [
            "Model: \"sequential\"\n",
            "_________________________________________________________________\n",
            " Layer (type)                Output Shape              Param #   \n",
            "=================================================================\n",
            " embedding (Embedding)       (None, 17, 100)           820000    \n",
            "                                                                 \n",
            " lstm (LSTM)                 (None, 150)               150600    \n",
            "                                                                 \n",
            " dense (Dense)               (None, 8200)              1238200   \n",
            "                                                                 \n",
            "=================================================================\n",
            "Total params: 2208800 (8.43 MB)\n",
            "Trainable params: 2208800 (8.43 MB)\n",
            "Non-trainable params: 0 (0.00 Byte)\n",
            "_________________________________________________________________\n",
            "None\n"
          ]
        }
      ]
    },
    {
      "cell_type": "code",
      "source": [
        "model.compile(loss='categorical_crossentropy', optimizer='adam', metrics=['accuracy'])"
      ],
      "metadata": {
        "id": "KRWyyK0-VUtE"
      },
      "execution_count": 10,
      "outputs": []
    },
    {
      "cell_type": "code",
      "source": [
        "histmod = model.fit(X, y, epochs=100, verbose=1)"
      ],
      "metadata": {
        "colab": {
          "base_uri": "https://localhost:8080/"
        },
        "id": "VMuphkaGV0zx",
        "outputId": "f9eb354c-1929-49f1-aaef-6689c8233084"
      },
      "execution_count": null,
      "outputs": [
        {
          "output_type": "stream",
          "name": "stdout",
          "text": [
            "Epoch 1/100\n",
            "3010/3010 [==============================] - 208s 68ms/step - loss: 6.2443 - accuracy: 0.0760\n",
            "Epoch 2/100\n",
            "3010/3010 [==============================] - 205s 68ms/step - loss: 5.5041 - accuracy: 0.1246\n",
            "Epoch 3/100\n",
            "3010/3010 [==============================] - 202s 67ms/step - loss: 5.1213 - accuracy: 0.1469\n",
            "Epoch 4/100\n",
            "3010/3010 [==============================] - 201s 67ms/step - loss: 4.7916 - accuracy: 0.1645\n",
            "Epoch 5/100\n",
            "3010/3010 [==============================] - 199s 66ms/step - loss: 4.4851 - accuracy: 0.1821\n",
            "Epoch 6/100\n",
            "3010/3010 [==============================] - 201s 67ms/step - loss: 4.1996 - accuracy: 0.2025\n",
            "Epoch 7/100\n",
            "3010/3010 [==============================] - 198s 66ms/step - loss: 3.9271 - accuracy: 0.2272\n",
            "Epoch 8/100\n",
            "3010/3010 [==============================] - 199s 66ms/step - loss: 3.6680 - accuracy: 0.2563\n",
            "Epoch 9/100\n",
            "3010/3010 [==============================] - 197s 65ms/step - loss: 3.4236 - accuracy: 0.2901\n",
            "Epoch 10/100\n",
            "3010/3010 [==============================] - 197s 65ms/step - loss: 3.1967 - accuracy: 0.3248\n",
            "Epoch 11/100\n",
            "3010/3010 [==============================] - 199s 66ms/step - loss: 2.9877 - accuracy: 0.3610\n",
            "Epoch 12/100\n",
            "3010/3010 [==============================] - 196s 65ms/step - loss: 2.7941 - accuracy: 0.3954\n",
            "Epoch 13/100\n",
            "3010/3010 [==============================] - 196s 65ms/step - loss: 2.6136 - accuracy: 0.4296\n",
            "Epoch 14/100\n",
            "3010/3010 [==============================] - 197s 65ms/step - loss: 2.4502 - accuracy: 0.4618\n",
            "Epoch 15/100\n",
            "3010/3010 [==============================] - 196s 65ms/step - loss: 2.2967 - accuracy: 0.4918\n",
            "Epoch 16/100\n",
            "3010/3010 [==============================] - 196s 65ms/step - loss: 2.1596 - accuracy: 0.5210\n",
            "Epoch 17/100\n",
            "3010/3010 [==============================] - 199s 66ms/step - loss: 2.0307 - accuracy: 0.5465\n",
            "Epoch 18/100\n",
            "3010/3010 [==============================] - 198s 66ms/step - loss: 1.9147 - accuracy: 0.5706\n",
            "Epoch 19/100\n",
            "3010/3010 [==============================] - 200s 66ms/step - loss: 1.8081 - accuracy: 0.5935\n",
            "Epoch 20/100\n",
            "3010/3010 [==============================] - 197s 66ms/step - loss: 1.7076 - accuracy: 0.6157\n",
            "Epoch 21/100\n",
            "3010/3010 [==============================] - 197s 65ms/step - loss: 1.6197 - accuracy: 0.6349\n",
            "Epoch 22/100\n",
            "3010/3010 [==============================] - 198s 66ms/step - loss: 1.5377 - accuracy: 0.6521\n",
            "Epoch 23/100\n",
            "3010/3010 [==============================] - 197s 65ms/step - loss: 1.4627 - accuracy: 0.6683\n",
            "Epoch 24/100\n",
            "3010/3010 [==============================] - 198s 66ms/step - loss: 1.3905 - accuracy: 0.6853\n",
            "Epoch 25/100\n",
            "3010/3010 [==============================] - 199s 66ms/step - loss: 1.3292 - accuracy: 0.6995\n",
            "Epoch 26/100\n",
            "3010/3010 [==============================] - 197s 66ms/step - loss: 1.2700 - accuracy: 0.7109\n",
            "Epoch 27/100\n",
            "3010/3010 [==============================] - 199s 66ms/step - loss: 1.2150 - accuracy: 0.7243\n",
            "Epoch 28/100\n",
            "3010/3010 [==============================] - 199s 66ms/step - loss: 1.1652 - accuracy: 0.7343\n",
            "Epoch 29/100\n",
            "3010/3010 [==============================] - 201s 67ms/step - loss: 1.1215 - accuracy: 0.7423\n",
            "Epoch 30/100\n",
            "3010/3010 [==============================] - 201s 67ms/step - loss: 1.0796 - accuracy: 0.7525\n",
            "Epoch 31/100\n",
            "3010/3010 [==============================] - 201s 67ms/step - loss: 1.0380 - accuracy: 0.7637\n",
            "Epoch 32/100\n",
            "3010/3010 [==============================] - 197s 66ms/step - loss: 1.0031 - accuracy: 0.7707\n",
            "Epoch 33/100\n",
            "3010/3010 [==============================] - 198s 66ms/step - loss: 0.9725 - accuracy: 0.7762\n",
            "Epoch 34/100\n",
            "3010/3010 [==============================] - 197s 65ms/step - loss: 0.9391 - accuracy: 0.7834\n",
            "Epoch 35/100\n",
            "3010/3010 [==============================] - 196s 65ms/step - loss: 0.9092 - accuracy: 0.7903\n",
            "Epoch 36/100\n",
            "3010/3010 [==============================] - 199s 66ms/step - loss: 0.8835 - accuracy: 0.7962\n",
            "Epoch 37/100\n",
            "3010/3010 [==============================] - 196s 65ms/step - loss: 0.8585 - accuracy: 0.8015\n",
            "Epoch 38/100\n",
            "3010/3010 [==============================] - 197s 65ms/step - loss: 0.8351 - accuracy: 0.8067\n",
            "Epoch 39/100\n",
            "3010/3010 [==============================] - 198s 66ms/step - loss: 0.8135 - accuracy: 0.8116\n",
            "Epoch 40/100\n",
            "3010/3010 [==============================] - 196s 65ms/step - loss: 0.7923 - accuracy: 0.8163\n",
            "Epoch 41/100\n",
            "3010/3010 [==============================] - 196s 65ms/step - loss: 0.7740 - accuracy: 0.8200\n",
            "Epoch 42/100\n",
            "3010/3010 [==============================] - 198s 66ms/step - loss: 0.7610 - accuracy: 0.8213\n",
            "Epoch 43/100\n",
            "3010/3010 [==============================] - 196s 65ms/step - loss: 0.7442 - accuracy: 0.8262\n",
            "Epoch 44/100\n",
            "3010/3010 [==============================] - 195s 65ms/step - loss: 0.7272 - accuracy: 0.8285\n",
            "Epoch 45/100\n",
            "3010/3010 [==============================] - 196s 65ms/step - loss: 0.7182 - accuracy: 0.8301\n",
            "Epoch 46/100\n",
            "3010/3010 [==============================] - 197s 65ms/step - loss: 0.7018 - accuracy: 0.8335\n",
            "Epoch 47/100\n",
            "3010/3010 [==============================] - 196s 65ms/step - loss: 0.6878 - accuracy: 0.8370\n",
            "Epoch 48/100\n",
            "3010/3010 [==============================] - 195s 65ms/step - loss: 0.6809 - accuracy: 0.8387\n",
            "Epoch 49/100\n",
            "3010/3010 [==============================] - 196s 65ms/step - loss: 0.6701 - accuracy: 0.8402\n",
            "Epoch 50/100\n",
            "3010/3010 [==============================] - 198s 66ms/step - loss: 0.6626 - accuracy: 0.8408\n",
            "Epoch 51/100\n",
            "3010/3010 [==============================] - 196s 65ms/step - loss: 0.6513 - accuracy: 0.8441\n",
            "Epoch 52/100\n",
            "3010/3010 [==============================] - 196s 65ms/step - loss: 0.6468 - accuracy: 0.8440\n",
            "Epoch 53/100\n",
            "3010/3010 [==============================] - 196s 65ms/step - loss: 0.6361 - accuracy: 0.8456\n",
            "Epoch 54/100\n",
            "3010/3010 [==============================] - 199s 66ms/step - loss: 0.6271 - accuracy: 0.8480\n",
            "Epoch 55/100\n",
            "3010/3010 [==============================] - 197s 65ms/step - loss: 0.6208 - accuracy: 0.8505\n",
            "Epoch 56/100\n",
            "3010/3010 [==============================] - 197s 65ms/step - loss: 0.6126 - accuracy: 0.8512\n",
            "Epoch 57/100\n",
            "3010/3010 [==============================] - 199s 66ms/step - loss: 0.6130 - accuracy: 0.8508\n",
            "Epoch 58/100\n",
            "3010/3010 [==============================] - 197s 65ms/step - loss: 0.6034 - accuracy: 0.8525\n",
            "Epoch 59/100\n",
            "3010/3010 [==============================] - 198s 66ms/step - loss: 0.5998 - accuracy: 0.8523\n",
            "Epoch 60/100\n",
            "3010/3010 [==============================] - 199s 66ms/step - loss: 0.5973 - accuracy: 0.8534\n",
            "Epoch 61/100\n",
            "3010/3010 [==============================] - 199s 66ms/step - loss: 0.5919 - accuracy: 0.8530\n",
            "Epoch 62/100\n",
            "3010/3010 [==============================] - 202s 67ms/step - loss: 0.5852 - accuracy: 0.8565\n",
            "Epoch 63/100\n",
            "3010/3010 [==============================] - 201s 67ms/step - loss: 0.5817 - accuracy: 0.8554\n",
            "Epoch 64/100\n",
            "3010/3010 [==============================] - 204s 68ms/step - loss: 0.5801 - accuracy: 0.8561\n",
            "Epoch 65/100\n",
            "3010/3010 [==============================] - 201s 67ms/step - loss: 0.5768 - accuracy: 0.8562\n",
            "Epoch 66/100\n",
            "3010/3010 [==============================] - 198s 66ms/step - loss: 0.5719 - accuracy: 0.8569\n",
            "Epoch 67/100\n",
            "3010/3010 [==============================] - 200s 66ms/step - loss: 0.5665 - accuracy: 0.8582\n",
            "Epoch 68/100\n",
            "3010/3010 [==============================] - 199s 66ms/step - loss: 0.5681 - accuracy: 0.8570\n",
            "Epoch 69/100\n",
            "3010/3010 [==============================] - 200s 67ms/step - loss: 0.5629 - accuracy: 0.8580\n",
            "Epoch 70/100\n",
            "3010/3010 [==============================] - 199s 66ms/step - loss: 0.5541 - accuracy: 0.8608\n",
            "Epoch 71/100\n",
            "3010/3010 [==============================] - 203s 67ms/step - loss: 0.5610 - accuracy: 0.8573\n",
            "Epoch 72/100\n",
            "3010/3010 [==============================] - 201s 67ms/step - loss: 0.5512 - accuracy: 0.8613\n",
            "Epoch 73/100\n",
            "3010/3010 [==============================] - 203s 67ms/step - loss: 0.5504 - accuracy: 0.8612\n",
            "Epoch 74/100\n",
            "3010/3010 [==============================] - 207s 69ms/step - loss: 0.5482 - accuracy: 0.8611\n",
            "Epoch 75/100\n",
            "3010/3010 [==============================] - 201s 67ms/step - loss: 0.5454 - accuracy: 0.8616\n",
            "Epoch 76/100\n",
            "3010/3010 [==============================] - 200s 66ms/step - loss: 0.5435 - accuracy: 0.8621\n",
            "Epoch 77/100\n",
            "3010/3010 [==============================] - 200s 67ms/step - loss: 0.5448 - accuracy: 0.8612\n",
            "Epoch 78/100\n",
            "3010/3010 [==============================] - 199s 66ms/step - loss: 0.5351 - accuracy: 0.8646\n",
            "Epoch 79/100\n",
            "3010/3010 [==============================] - 199s 66ms/step - loss: 0.5424 - accuracy: 0.8603\n",
            "Epoch 80/100\n",
            "3010/3010 [==============================] - 200s 66ms/step - loss: 0.5409 - accuracy: 0.8604\n",
            "Epoch 81/100\n",
            "3010/3010 [==============================] - 199s 66ms/step - loss: 0.5374 - accuracy: 0.8616\n",
            "Epoch 82/100\n",
            "3010/3010 [==============================] - 200s 66ms/step - loss: 0.5312 - accuracy: 0.8631\n",
            "Epoch 83/100\n",
            "3010/3010 [==============================] - 201s 67ms/step - loss: 0.5358 - accuracy: 0.8612\n",
            "Epoch 84/100\n",
            "3010/3010 [==============================] - 202s 67ms/step - loss: 0.5326 - accuracy: 0.8629\n",
            "Epoch 85/100\n",
            "3010/3010 [==============================] - 199s 66ms/step - loss: 0.5305 - accuracy: 0.8623\n",
            "Epoch 86/100\n",
            "3010/3010 [==============================] - 201s 67ms/step - loss: 0.5292 - accuracy: 0.8628\n",
            "Epoch 87/100\n",
            "3010/3010 [==============================] - 197s 65ms/step - loss: 0.5286 - accuracy: 0.8635\n",
            "Epoch 88/100\n",
            "3010/3010 [==============================] - 199s 66ms/step - loss: 0.5327 - accuracy: 0.8616\n",
            "Epoch 89/100\n",
            "3010/3010 [==============================] - 198s 66ms/step - loss: 0.5287 - accuracy: 0.8621\n",
            "Epoch 90/100\n",
            "3010/3010 [==============================] - 198s 66ms/step - loss: 0.5241 - accuracy: 0.8636\n",
            "Epoch 91/100\n",
            "3010/3010 [==============================] - 199s 66ms/step - loss: 0.5310 - accuracy: 0.8618\n",
            "Epoch 92/100\n",
            "3010/3010 [==============================] - 197s 65ms/step - loss: 0.5202 - accuracy: 0.8640\n",
            "Epoch 93/100\n",
            "3010/3010 [==============================] - 200s 66ms/step - loss: 0.5292 - accuracy: 0.8614\n",
            "Epoch 94/100\n",
            "3010/3010 [==============================] - 200s 66ms/step - loss: 0.5216 - accuracy: 0.8628\n",
            "Epoch 95/100\n",
            "3010/3010 [==============================] - 201s 67ms/step - loss: 0.5228 - accuracy: 0.8626\n",
            "Epoch 96/100\n",
            "3010/3010 [==============================] - 197s 65ms/step - loss: 0.5231 - accuracy: 0.8626\n",
            "Epoch 97/100\n",
            "3010/3010 [==============================] - 197s 65ms/step - loss: 0.5229 - accuracy: 0.8627\n",
            "Epoch 98/100\n",
            "3010/3010 [==============================] - 198s 66ms/step - loss: 0.5201 - accuracy: 0.8629\n",
            "Epoch 99/100\n",
            "3010/3010 [==============================] - 198s 66ms/step - loss: 0.5199 - accuracy: 0.8631\n",
            "Epoch 100/100\n",
            "3010/3010 [==============================] - 197s 65ms/step - loss: 0.5183 - accuracy: 0.8625\n"
          ]
        }
      ]
    },
    {
      "cell_type": "code",
      "source": [
        "import pickle\n",
        "\n",
        "model.save('sentiment_model.h5')\n",
        "with open('tokenizer.pickle', 'wb') as handle:\n",
        "    pickle.dump(tokenizer, handle, protocol=pickle.HIGHEST_PROTOCOL)"
      ],
      "metadata": {
        "colab": {
          "base_uri": "https://localhost:8080/"
        },
        "id": "_YGU8ogjV6DA",
        "outputId": "50ec0470-1a97-4cb5-df91-b55a0ac5a5c9"
      },
      "execution_count": 12,
      "outputs": [
        {
          "output_type": "stream",
          "name": "stderr",
          "text": [
            "/usr/local/lib/python3.10/dist-packages/keras/src/engine/training.py:3079: UserWarning: You are saving your model as an HDF5 file via `model.save()`. This file format is considered legacy. We recommend using instead the native Keras format, e.g. `model.save('my_model.keras')`.\n",
            "  saving_api.save_model(\n"
          ]
        }
      ]
    },
    {
      "cell_type": "code",
      "source": [
        "import matplotlib.pyplot as plt\n",
        "\n",
        "plt.figure(figsize=(12, 6))\n",
        "plt.subplot(1, 2, 1)\n",
        "plt.plot(histmod.history['accuracy'])\n",
        "plt.title('Model Accuracy')\n",
        "plt.xlabel('Epochs')\n",
        "plt.ylabel('Accuracy')"
      ],
      "metadata": {
        "colab": {
          "base_uri": "https://localhost:8080/",
          "height": 581
        },
        "id": "h1GMrT4XjA26",
        "outputId": "452113b2-2d5a-4d1e-a61f-e1ad3342504f"
      },
      "execution_count": null,
      "outputs": [
        {
          "output_type": "execute_result",
          "data": {
            "text/plain": [
              "Text(0, 0.5, 'Accuracy')"
            ]
          },
          "metadata": {},
          "execution_count": 17
        },
        {
          "output_type": "display_data",
          "data": {
            "text/plain": [
              "<Figure size 1200x600 with 1 Axes>"
            ],
            "image/png": "[encoded data removed]"
          },
          "metadata": {}
        }
      ]
    },
    {
      "cell_type": "code",
      "source": [
        "plt.subplot(1, 2, 2)\n",
        "plt.plot(histmod.history['loss'])\n",
        "plt.title('Model Loss')\n",
        "plt.xlabel('Epochs')\n",
        "plt.ylabel('Loss')"
      ],
      "metadata": {
        "colab": {
          "base_uri": "https://localhost:8080/",
          "height": 489
        },
        "id": "hYf-Bo2sjbYU",
        "outputId": "3245d93a-b8c3-494b-ddc9-0b82697e9f35"
      },
      "execution_count": null,
      "outputs": [
        {
          "output_type": "execute_result",
          "data": {
            "text/plain": [
              "Text(0, 0.5, 'Loss')"
            ]
          },
          "metadata": {},
          "execution_count": 18
        },
        {
          "output_type": "display_data",
          "data": {
            "text/plain": [
              "<Figure size 640x480 with 1 Axes>"
            ],
            "image/png": "[encoded data removed]"
          },
          "metadata": {}
        }
      ]
    },
    {
      "cell_type": "code",
      "source": [
        "def generate_next_words(halftext, model, tokenizer, max_sequence_len, next_words=5):\n",
        "    for _ in range(next_words):\n",
        "        token_list = tokenizer.texts_to_sequences([halftext])[0]\n",
        "        token_list = pad_sequences([token_list], maxlen=max_sequence_len-1, padding='pre')\n",
        "        predicted = np.argmax(model.predict(token_list), axis=-1)\n",
        "        output_word = \"\"\n",
        "        for word, index in tokenizer.word_index.items():\n",
        "            if index == predicted:\n",
        "                output_word = word\n",
        "                break\n",
        "        halftext += \" \" + output_word\n",
        "    return halftext"
      ],
      "metadata": {
        "id": "L2oEr0pFjj6s"
      },
      "execution_count": 13,
      "outputs": []
    },
    {
      "cell_type": "code",
      "source": [
        "halftext_input = \"Stop there\"\n",
        "generated_text = generate_next_words(halftext_input, model, tokenizer, max_sequence_len, next_words=5)\n",
        "print(generated_text)"
      ],
      "metadata": {
        "colab": {
          "base_uri": "https://localhost:8080/"
        },
        "id": "UXzSCnYzlbv9",
        "outputId": "b65d0e5b-2232-4dd8-8306-c37db293a6a1"
      },
      "execution_count": null,
      "outputs": [
        {
          "output_type": "stream",
          "name": "stdout",
          "text": [
            "1/1 [==============================] - 0s 43ms/step\n",
            "1/1 [==============================] - 0s 41ms/step\n",
            "1/1 [==============================] - 0s 28ms/step\n",
            "1/1 [==============================] - 0s 25ms/step\n",
            "1/1 [==============================] - 0s 24ms/step\n",
            "Stop there in ' said i believe\n"
          ]
        }
      ]
    },
    {
      "cell_type": "code",
      "source": [
        "halftext_input = \"Today i will not go to my university\"\n",
        "generated_text = generate_next_words(halftext_input, model, tokenizer, max_sequence_len, next_words=5)\n",
        "print(generated_text)"
      ],
      "metadata": {
        "colab": {
          "base_uri": "https://localhost:8080/"
        },
        "id": "ccsWgEY_lgZ-",
        "outputId": "4258c668-373f-4f77-8467-7661fca8e3c7"
      },
      "execution_count": null,
      "outputs": [
        {
          "output_type": "stream",
          "name": "stdout",
          "text": [
            "1/1 [==============================] - 0s 36ms/step\n",
            "1/1 [==============================] - 0s 24ms/step\n",
            "1/1 [==============================] - 0s 55ms/step\n",
            "1/1 [==============================] - 0s 131ms/step\n",
            "1/1 [==============================] - 0s 97ms/step\n",
            "Today i will not go to my university night for my father was\n"
          ]
        }
      ]
    },
    {
      "cell_type": "code",
      "source": [
        "halftext_input = \"There was a murderer in that room\"\n",
        "generated_text = generate_next_words(halftext_input, model, tokenizer, max_sequence_len, next_words=5)\n",
        "print(generated_text)"
      ],
      "metadata": {
        "colab": {
          "base_uri": "https://localhost:8080/"
        },
        "id": "E37F-4IUlvHR",
        "outputId": "7e2a0af4-3a74-4859-9ddd-f717cc684f67"
      },
      "execution_count": null,
      "outputs": [
        {
          "output_type": "stream",
          "name": "stdout",
          "text": [
            "1/1 [==============================] - 0s 43ms/step\n",
            "1/1 [==============================] - 0s 23ms/step\n",
            "1/1 [==============================] - 0s 24ms/step\n",
            "1/1 [==============================] - 0s 24ms/step\n",
            "1/1 [==============================] - 0s 42ms/step\n",
            "There was a murderer in that room with the company and not\n"
          ]
        }
      ]
    },
    {
      "cell_type": "code",
      "source": [
        "from tensorflow.keras.models import load_model\n",
        "import pickle\n",
        "\n",
        "with open('tokenizer.pickle', 'rb') as handle:\n",
        "    tokenizer = pickle.load(handle)\n",
        "\n",
        "model = load_model('sentiment_model.h5')"
      ],
      "metadata": {
        "id": "X3FBP8Mbl2nO"
      },
      "execution_count": 11,
      "outputs": []
    },
    {
      "cell_type": "code",
      "source": [
        "def generate_next_words(halftext, model, tokenizer, max_sequence_len, next_words=5):\n",
        "    for _ in range(next_words):\n",
        "        token_list = tokenizer.texts_to_sequences([halftext])[0]\n",
        "        token_list = pad_sequences([token_list], maxlen=max_sequence_len-1, padding='pre')\n",
        "        predicted = np.argmax(model.predict(token_list), axis=-1)\n",
        "        output_word = \"\"\n",
        "        for word, index in tokenizer.word_index.items():\n",
        "            if index == predicted:\n",
        "                output_word = word\n",
        "                break\n",
        "        halftext += \" \" + output_word\n",
        "    return halftext"
      ],
      "metadata": {
        "id": "iGI6Os4Lkt3e"
      },
      "execution_count": 12,
      "outputs": []
    },
    {
      "cell_type": "code",
      "source": [
        "halftext_input = \"How was\"\n",
        "generated_text = generate_next_words(halftext_input, model, tokenizer, max_sequence_len, next_words=3)\n",
        "print(generated_text)"
      ],
      "metadata": {
        "colab": {
          "base_uri": "https://localhost:8080/"
        },
        "id": "mO18MHiUk125",
        "outputId": "111dfa35-4053-4874-90f3-e30df0452dd0"
      },
      "execution_count": 31,
      "outputs": [
        {
          "output_type": "stream",
          "name": "stdout",
          "text": [
            "1/1 [==============================] - 0s 421ms/step\n",
            "1/1 [==============================] - 0s 23ms/step\n",
            "1/1 [==============================] - 0s 22ms/step\n",
            "How was knocked forth paleness\n"
          ]
        }
      ]
    },
    {
      "cell_type": "code",
      "source": [
        "halftext_input = \"My name\"\n",
        "generated_text = generate_next_words(halftext_input, model, tokenizer, max_sequence_len, next_words=3)\n",
        "print(generated_text)"
      ],
      "metadata": {
        "colab": {
          "base_uri": "https://localhost:8080/"
        },
        "id": "TXr-fpU2lYmb",
        "outputId": "e0c86f24-434b-4fa8-a0c6-6cd6ab29e622"
      },
      "execution_count": null,
      "outputs": [
        {
          "output_type": "stream",
          "name": "stdout",
          "text": [
            "1/1 [==============================] - 0s 26ms/step\n",
            "1/1 [==============================] - 0s 24ms/step\n",
            "1/1 [==============================] - 0s 21ms/step\n",
            "My name is sherlock holmes\n"
          ]
        }
      ]
    },
    {
      "cell_type": "code",
      "source": [
        "halftext_input = \"I could not help\"\n",
        "generated_text = generate_next_words(halftext_input, model, tokenizer, max_sequence_len, next_words=5)\n",
        "print(generated_text)"
      ],
      "metadata": {
        "id": "qGp_zVj6l8lF",
        "colab": {
          "base_uri": "https://localhost:8080/"
        },
        "outputId": "5d548f70-1583-4ec3-bc97-374f25a6ebc4"
      },
      "execution_count": 43,
      "outputs": [
        {
          "output_type": "stream",
          "name": "stdout",
          "text": [
            "1/1 [==============================] - 0s 68ms/step\n",
            "1/1 [==============================] - 0s 39ms/step\n",
            "1/1 [==============================] - 0s 64ms/step\n",
            "1/1 [==============================] - 0s 48ms/step\n",
            "1/1 [==============================] - 0s 69ms/step\n",
            "I could not help laughing at the ease in\n"
          ]
        }
      ]
    },
    {
      "cell_type": "code",
      "source": [
        "halftext_input = \"I could not sleep\"\n",
        "generated_text = generate_next_words(halftext_input, model, tokenizer, max_sequence_len, next_words=5)\n",
        "print(generated_text)"
      ],
      "metadata": {
        "colab": {
          "base_uri": "https://localhost:8080/"
        },
        "id": "Ex64mad2ySdJ",
        "outputId": "0bcd1424-b24f-489c-d54e-29c4cdc74a55"
      },
      "execution_count": 44,
      "outputs": [
        {
          "output_type": "stream",
          "name": "stdout",
          "text": [
            "1/1 [==============================] - 0s 96ms/step\n",
            "1/1 [==============================] - 0s 38ms/step\n",
            "1/1 [==============================] - 0s 36ms/step\n",
            "1/1 [==============================] - 0s 39ms/step\n",
            "1/1 [==============================] - 0s 38ms/step\n",
            "I could not sleep that night a vague feeling\n"
          ]
        }
      ]
    },
    {
      "cell_type": "code",
      "source": [
        "halftext_input = \"At Waterloo\"\n",
        "generated_text = generate_next_words(halftext_input, model, tokenizer, max_sequence_len, next_words=10)\n",
        "print(generated_text)"
      ],
      "metadata": {
        "colab": {
          "base_uri": "https://localhost:8080/"
        },
        "id": "z3TajTebzU0Z",
        "outputId": "cc4747fe-3f98-44e4-faa4-b0f57064c5b7"
      },
      "execution_count": 45,
      "outputs": [
        {
          "output_type": "stream",
          "name": "stdout",
          "text": [
            "1/1 [==============================] - 0s 84ms/step\n",
            "1/1 [==============================] - 0s 71ms/step\n",
            "1/1 [==============================] - 0s 96ms/step\n",
            "1/1 [==============================] - 0s 71ms/step\n",
            "1/1 [==============================] - 0s 58ms/step\n",
            "1/1 [==============================] - 0s 82ms/step\n",
            "1/1 [==============================] - 0s 154ms/step\n",
            "1/1 [==============================] - 0s 89ms/step\n",
            "1/1 [==============================] - 0s 75ms/step\n",
            "1/1 [==============================] - 0s 55ms/step\n",
            "At Waterloo we were fortunate in catching a train for leatherhead they\n"
          ]
        }
      ]
    },
    {
      "cell_type": "code",
      "source": [
        "halftext_input = \"I'm tired\"\n",
        "generated_text = generate_next_words(halftext_input, model, tokenizer, max_sequence_len, next_words=5)\n",
        "print(generated_text)"
      ],
      "metadata": {
        "colab": {
          "base_uri": "https://localhost:8080/"
        },
        "id": "oxKIwpMYzhYO",
        "outputId": "9fcd8b8d-5b79-4aed-c2cc-2ae017f1816f"
      },
      "execution_count": 46,
      "outputs": [
        {
          "output_type": "stream",
          "name": "stdout",
          "text": [
            "1/1 [==============================] - 0s 35ms/step\n",
            "1/1 [==============================] - 0s 23ms/step\n",
            "1/1 [==============================] - 0s 23ms/step\n",
            "1/1 [==============================] - 0s 24ms/step\n",
            "1/1 [==============================] - 0s 30ms/step\n",
            "I'm tired in that have i had\n"
          ]
        }
      ]
    },
    {
      "cell_type": "code",
      "source": [
        "halftext_input = \"It was\"\n",
        "generated_text = generate_next_words(halftext_input, model, tokenizer, max_sequence_len, next_words=5)\n",
        "print(generated_text)"
      ],
      "metadata": {
        "colab": {
          "base_uri": "https://localhost:8080/"
        },
        "id": "kDHHLIyWzntD",
        "outputId": "e8dbac27-bbfd-46b4-e9dc-20519f1ab7c7"
      },
      "execution_count": 50,
      "outputs": [
        {
          "output_type": "stream",
          "name": "stdout",
          "text": [
            "1/1 [==============================] - 0s 23ms/step\n",
            "1/1 [==============================] - 0s 23ms/step\n",
            "1/1 [==============================] - 0s 22ms/step\n",
            "1/1 [==============================] - 0s 34ms/step\n",
            "1/1 [==============================] - 0s 47ms/step\n",
            "It was most suggestive said holmes it\n"
          ]
        }
      ]
    },
    {
      "cell_type": "code",
      "source": [
        "halftext_input = \"I see\"\n",
        "generated_text = generate_next_words(halftext_input, model, tokenizer, max_sequence_len, next_words=5)\n",
        "print(generated_text)"
      ],
      "metadata": {
        "colab": {
          "base_uri": "https://localhost:8080/"
        },
        "id": "ksEmqjiLz52L",
        "outputId": "19d10643-7179-4b53-9947-c1ff5281df51"
      },
      "execution_count": 32,
      "outputs": [
        {
          "output_type": "stream",
          "name": "stdout",
          "text": [
            "1/1 [==============================] - 0s 27ms/step\n",
            "1/1 [==============================] - 0s 28ms/step\n",
            "1/1 [==============================] - 0s 23ms/step\n",
            "1/1 [==============================] - 0s 23ms/step\n",
            "1/1 [==============================] - 0s 22ms/step\n",
            "I see idea lascar overtaken £1100 disconnected\n"
          ]
        }
      ]
    },
    {
      "cell_type": "code",
      "source": [
        "halftext_input = \"What will she do\"\n",
        "generated_text = generate_next_words(halftext_input, model, tokenizer, max_sequence_len, next_words=5)\n",
        "print(generated_text)"
      ],
      "metadata": {
        "colab": {
          "base_uri": "https://localhost:8080/"
        },
        "id": "dmikpgYK2bO9",
        "outputId": "a3276e0d-3b5e-41e0-8019-6e5e1bf2af23"
      },
      "execution_count": 33,
      "outputs": [
        {
          "output_type": "stream",
          "name": "stdout",
          "text": [
            "1/1 [==============================] - 0s 80ms/step\n",
            "1/1 [==============================] - 0s 81ms/step\n",
            "1/1 [==============================] - 0s 121ms/step\n",
            "1/1 [==============================] - 0s 82ms/step\n",
            "1/1 [==============================] - 0s 130ms/step\n",
            "What will she do  whatever tobacconist marked overtaken guard\n"
          ]
        }
      ]
    },
    {
      "cell_type": "code",
      "source": [
        "halftext_input = \"He was a large man with rounded\"\n",
        "generated_text = generate_next_words(halftext_input, model, tokenizer, max_sequence_len, next_words=5)\n",
        "print(generated_text)"
      ],
      "metadata": {
        "colab": {
          "base_uri": "https://localhost:8080/"
        },
        "id": "q2V5SvPLWYbL",
        "outputId": "94909fa3-5266-44c5-a3bf-8e2cc175bec9"
      },
      "execution_count": 35,
      "outputs": [
        {
          "output_type": "stream",
          "name": "stdout",
          "text": [
            "1/1 [==============================] - 0s 26ms/step\n",
            "1/1 [==============================] - 0s 25ms/step\n",
            "1/1 [==============================] - 0s 26ms/step\n",
            "1/1 [==============================] - 0s 26ms/step\n",
            "1/1 [==============================] - 0s 23ms/step\n",
            "He was a large man with rounded braced featureless seldom 'fritz jumped\n"
          ]
        }
      ]
    },
    {
      "cell_type": "code",
      "source": [],
      "metadata": {
        "id": "wwOkC3L9Wkzw"
      },
      "execution_count": null,
      "outputs": []
    }
  ]
}